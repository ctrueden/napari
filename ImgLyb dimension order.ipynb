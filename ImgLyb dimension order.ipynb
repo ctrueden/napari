{
 "cells": [
  {
   "cell_type": "markdown",
   "metadata": {},
   "source": [
    "Make two numpy arrays: one with C ordering, and one with F ordering."
   ]
  },
  {
   "cell_type": "code",
   "execution_count": 1,
   "metadata": {},
   "outputs": [],
   "source": [
    "import numpy\n",
    "c_narr = numpy.ndarray([7, 5, 3])\n",
    "f_narr = numpy.ndarray([7, 5, 3], order='F')\n",
    "c_narr[3,2,1]=0.456\n",
    "f_narr[3,2,1]=0.456"
   ]
  },
  {
   "cell_type": "markdown",
   "metadata": {},
   "source": [
    "Double check that it worked."
   ]
  },
  {
   "cell_type": "code",
   "execution_count": 2,
   "metadata": {},
   "outputs": [
    {
     "name": "stdout",
     "output_type": "stream",
     "text": [
      "[c_narr]\n",
      "isfortran? False\n",
      "CARRAY flag? True\n",
      "FARRAY flag? False\n",
      "[f_narr]\n",
      "isfortran? True\n",
      "CARRAY flag? False\n",
      "FARRAY flag? True\n"
     ]
    }
   ],
   "source": [
    "def c_or_f(title, narr):\n",
    "    print(f'[{title}]')\n",
    "    print(f'isfortran? {numpy.isfortran(narr)}')\n",
    "    print(f'CARRAY flag? {narr.flags[\"CARRAY\"]}')\n",
    "    print(f'FARRAY flag? {narr.flags[\"FARRAY\"]}')\n",
    "c_or_f('c_narr', c_narr)\n",
    "c_or_f('f_narr', f_narr)"
   ]
  },
  {
   "cell_type": "markdown",
   "metadata": {},
   "source": [
    "Now wrap to ImgLib2."
   ]
  },
  {
   "cell_type": "code",
   "execution_count": 3,
   "metadata": {},
   "outputs": [],
   "source": [
    "import imglyb\n",
    "c_rai = imglyb.to_imglib(c_narr)\n",
    "f_rai = imglyb.to_imglib(f_narr)"
   ]
  },
  {
   "cell_type": "markdown",
   "metadata": {},
   "source": [
    "The dimension order has flipped:"
   ]
  },
  {
   "cell_type": "code",
   "execution_count": 4,
   "metadata": {},
   "outputs": [
    {
     "data": {
      "text/plain": [
       "[7, 5, 3]"
      ]
     },
     "execution_count": 4,
     "metadata": {},
     "output_type": "execute_result"
    }
   ],
   "source": [
    "[c_rai.dimension(d) for d in range(c_rai.numDimensions())]"
   ]
  },
  {
   "cell_type": "code",
   "execution_count": 5,
   "metadata": {},
   "outputs": [
    {
     "data": {
      "text/plain": [
       "[7, 5, 3]"
      ]
     },
     "execution_count": 5,
     "metadata": {},
     "output_type": "execute_result"
    }
   ],
   "source": [
    "[f_rai.dimension(d) for d in range(f_rai.numDimensions())]"
   ]
  },
  {
   "cell_type": "markdown",
   "metadata": {},
   "source": [
    "Now we change the value in the numpy side, to prove the ImgLib2 side is wrapping by reference."
   ]
  },
  {
   "cell_type": "code",
   "execution_count": 6,
   "metadata": {},
   "outputs": [],
   "source": [
    "c_narr[3,2,1] = 0.789\n",
    "f_narr[3,2,1] = 0.789"
   ]
  },
  {
   "cell_type": "code",
   "execution_count": 7,
   "metadata": {},
   "outputs": [],
   "source": [
    "def coord(rai,x,y,z):\n",
    "    ra = rai.randomAccess()\n",
    "    ra.setPosition(x, 0)\n",
    "    ra.setPosition(y, 1)\n",
    "    ra.setPosition(z, 2)\n",
    "    return ra.get().getRealDouble()"
   ]
  },
  {
   "cell_type": "code",
   "execution_count": 10,
   "metadata": {},
   "outputs": [
    {
     "data": {
      "text/plain": [
       "0.789"
      ]
     },
     "execution_count": 10,
     "metadata": {},
     "output_type": "execute_result"
    }
   ],
   "source": [
    "coord(c_rai, 3,2,1)"
   ]
  },
  {
   "cell_type": "code",
   "execution_count": 9,
   "metadata": {},
   "outputs": [
    {
     "data": {
      "text/plain": [
       "0.789"
      ]
     },
     "execution_count": 9,
     "metadata": {},
     "output_type": "execute_result"
    }
   ],
   "source": [
    "coord(f_rai, 3,2,1)"
   ]
  },
  {
   "cell_type": "code",
   "execution_count": null,
   "metadata": {},
   "outputs": [],
   "source": []
  }
 ],
 "metadata": {
  "kernelspec": {
   "display_name": "Python 3",
   "language": "python",
   "name": "python3"
  },
  "language_info": {
   "codemirror_mode": {
    "name": "ipython",
    "version": 3
   },
   "file_extension": ".py",
   "mimetype": "text/x-python",
   "name": "python",
   "nbconvert_exporter": "python",
   "pygments_lexer": "ipython3",
   "version": "3.7.3"
  }
 },
 "nbformat": 4,
 "nbformat_minor": 2
}
