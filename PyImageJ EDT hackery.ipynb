{
 "cells": [
  {
   "cell_type": "code",
   "execution_count": 1,
   "metadata": {},
   "outputs": [],
   "source": [
    "%gui qt"
   ]
  },
  {
   "cell_type": "code",
   "execution_count": 2,
   "metadata": {},
   "outputs": [],
   "source": [
    "def start_imagej():\n",
    "    import imagej\n",
    "    _ij = imagej.init(headless=False)\n",
    "\n",
    "    from jnius import PythonJavaClass, java_method, autoclass\n",
    "    class JavaRunnable(PythonJavaClass):\n",
    "        __javainterfaces__ = ['java/lang/Runnable']\n",
    "\n",
    "        def __init__(self, f):\n",
    "            super(JavaRunnable, self).__init__()\n",
    "            self._f = f\n",
    "\n",
    "        @java_method('()V')\n",
    "        def run(self):\n",
    "            self._f()\n",
    "\n",
    "\n",
    "    class HackedUIService(object):\n",
    "        def __init__(self, ij):\n",
    "            super(HackedUIService, self).__init__()\n",
    "            self._ij = ij\n",
    "        def __getattr__(self, name):\n",
    "            value = getattr(self._ij.ui(), name)\n",
    "            if str(type(value)) in ['jnius.JavaMethod', 'jnius.JavaMultipleMethod']:\n",
    "                return lambda: self._ij.thread().queue(JavaRunnable(lambda: value(kwargs)))\n",
    "            return value\n",
    "    p_ui = HackedUIService(_ij)\n",
    "    _ij.ui = lambda: p_ui\n",
    "\n",
    "    _ij.ui().showUI()\n",
    "    global ij\n",
    "    ij = _ij\n",
    "\n",
    "from PyQt5 import QtCore\n",
    "QtCore.QTimer.singleShot(0, start_imagej)\n"
   ]
  },
  {
   "cell_type": "code",
   "execution_count": null,
   "metadata": {},
   "outputs": [],
   "source": []
  }
 ],
 "metadata": {
  "kernelspec": {
   "display_name": "Python 3",
   "language": "python",
   "name": "python3"
  },
  "language_info": {
   "codemirror_mode": {
    "name": "ipython",
    "version": 3
   },
   "file_extension": ".py",
   "mimetype": "text/x-python",
   "name": "python",
   "nbconvert_exporter": "python",
   "pygments_lexer": "ipython3",
   "version": "3.7.3"
  }
 },
 "nbformat": 4,
 "nbformat_minor": 2
}
